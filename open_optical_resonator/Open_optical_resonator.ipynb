{
 "cells": [
  {
   "cell_type": "markdown",
   "id": "ea99afbc",
   "metadata": {},
   "source": [
    "# Лабораторная работа \"Открытый оптический резонатор\"\n",
    "\n",
    "## В  настоящем блокноте представлена  программа для графического представления  полученны осциллограм в  случаях:\n",
    " ###              в режиме наилучшего согласования ООР и сканирующего резонатора\n",
    "###              в режиме умеренного согласования ООР и сканирующего резонатора \n",
    "###              в режиме плохого согласования ООР и сканирующего резонатора \n"
   ]
  },
  {
   "cell_type": "code",
   "execution_count": 5,
   "id": "37d44776",
   "metadata": {},
   "outputs": [],
   "source": [
    "import numpy as np \n",
    "import matplotlib.pyplot as plt "
   ]
  },
  {
   "cell_type": "code",
   "execution_count": 6,
   "id": "03a15286",
   "metadata": {},
   "outputs": [],
   "source": [
    "data_path =  \"E:\\\\учёба\\\\8 семестр\\\\Labs\\\\OOR_lab\""
   ]
  },
  {
   "cell_type": "code",
   "execution_count": 7,
   "id": "2833fe94",
   "metadata": {},
   "outputs": [],
   "source": [
    "path = data_path + \"\\\\\" + \"C2oor_100000.txt\""
   ]
  },
  {
   "cell_type": "code",
   "execution_count": 48,
   "id": "3eca50a2",
   "metadata": {},
   "outputs": [],
   "source": [
    "def unpack(path): \n",
    "    file = open(path, 'r' )\n",
    "    data = file.readlines()\n",
    "    data = [line.rstrip().split(\",\") for line in data]\n",
    "    settings = data[:4]\n",
    "    del data[:5]\n",
    "    data = np.array(data).astype(\"float\")\n",
    "    return data, settings"
   ]
  },
  {
   "cell_type": "code",
   "execution_count": null,
   "id": "93cd96a6",
   "metadata": {},
   "outputs": [],
   "source": []
  },
  {
   "cell_type": "code",
   "execution_count": null,
   "id": "64c3e880",
   "metadata": {},
   "outputs": [],
   "source": []
  }
 ],
 "metadata": {
  "kernelspec": {
   "display_name": "Python 3 (ipykernel)",
   "language": "python",
   "name": "python3"
  },
  "language_info": {
   "codemirror_mode": {
    "name": "ipython",
    "version": 3
   },
   "file_extension": ".py",
   "mimetype": "text/x-python",
   "name": "python",
   "nbconvert_exporter": "python",
   "pygments_lexer": "ipython3",
   "version": "3.9.9"
  }
 },
 "nbformat": 4,
 "nbformat_minor": 5
}
