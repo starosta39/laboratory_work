{
 "cells": [
  {
   "cell_type": "markdown",
   "id": "14d2c165",
   "metadata": {},
   "source": [
    "### Лабораторная работа \"“ЛАЗЕРНО-ФЛУОРЕСЦЕНТНАЯ СПЕКТРОСКОПИЯ МОЛЕКУЛ”\""
   ]
  },
  {
   "cell_type": "code",
   "execution_count": 1,
   "id": "64ab7464",
   "metadata": {},
   "outputs": [],
   "source": [
    "import numpy as np \n",
    "import matplotlib.pyplot as plt \n",
    "from scipy.signal import argrelextrema\n",
    "from scipy.signal import find_peaks, peak_widths,savgol_filter\n",
    "from scipy.signal import savgol_filter\n",
    "from scipy.optimize import curve_fit\n",
    "import copy\n",
    "import math\n",
    "from scipy.stats import t"
   ]
  },
  {
   "cell_type": "code",
   "execution_count": 2,
   "id": "7d4d0043",
   "metadata": {},
   "outputs": [],
   "source": [
    "data_path =  \"spectroscopy_lab_data\"\n",
    "save_path = \"results\""
   ]
  },
  {
   "cell_type": "code",
   "execution_count": 3,
   "id": "ea0cd67d",
   "metadata": {},
   "outputs": [],
   "source": [
    "def unpack(path, mod): \n",
    "    file = open(path + \"\\\\\" + mod + \".txt\", 'r' )\n",
    "    data = file.readlines()\n",
    "    data = [line.rstrip().split(\",\") for line in data]\n",
    "    settings = data[:4]\n",
    "    del data[:5]\n",
    "    data = np.array(data).astype(\"float\")\n",
    "    time = data[:,0]\n",
    "    signal = data[:, 1]\n",
    "    return  settings, time, signal"
   ]
  },
  {
   "cell_type": "markdown",
   "id": "036b0bf3",
   "metadata": {},
   "source": [
    "mod = [ \"spectrum\", \"background\"]"
   ]
  },
  {
   "cell_type": "code",
   "execution_count": null,
   "id": "84d45875",
   "metadata": {},
   "outputs": [],
   "source": [
    "settings spectrum = "
   ]
  }
 ],
 "metadata": {
  "kernelspec": {
   "display_name": "Python 3 (ipykernel)",
   "language": "python",
   "name": "python3"
  },
  "language_info": {
   "codemirror_mode": {
    "name": "ipython",
    "version": 3
   },
   "file_extension": ".py",
   "mimetype": "text/x-python",
   "name": "python",
   "nbconvert_exporter": "python",
   "pygments_lexer": "ipython3",
   "version": "3.9.9"
  }
 },
 "nbformat": 4,
 "nbformat_minor": 5
}
