{
 "cells": [
  {
   "cell_type": "markdown",
   "id": "b7102385",
   "metadata": {},
   "source": [
    "# Лабораторная работа \"Фемптосекундный  лазер\"\n",
    "\n",
    "## В  настоящем блокноте представлена  программа для  выполнения следующих задач:<br>\n",
    "### 1)Определяете период следования и частоту повторений импульсов лазера  \n",
    "### 2)Определяете время наростания фронта импульсов от 10% до 90% на обоих фотоприёмниках\n",
    "### 3)Привести спектр и описать его, определить ширину спектра \n",
    "### 4)Привести среднюю мощность на выходе из лазера и кристалла, определить эффективность преобразования во 2 гармонику \n",
    "### 5)Проверить, является ли импульс спектрально ограниченным\n",
    "### 6)Оценить энергию в одном импульсе\n",
    "### 7)Посчитать пиковую мощность \n",
    "### 8)Посчитать пиковую интенсивность при фокусировке импульса в пятно диаметром 8 мкм"
   ]
  },
  {
   "cell_type": "code",
   "execution_count": null,
   "id": "cd98e674",
   "metadata": {},
   "outputs": [],
   "source": [
    "import numpy as np \n",
    "import matplotlib.pyplot as plt \n",
    "from scipy.signal import argrelextrema\n",
    "from scipy.signal import find_peaks, peak_widths,savgol_filter\n",
    "from scipy.signal import savgol_filter\n",
    "from scipy.optimize import curve_fit\n",
    "import copy\n",
    "import math\n",
    "from scipy.stats import t"
   ]
  }
 ],
 "metadata": {
  "kernelspec": {
   "display_name": "Python 3 (ipykernel)",
   "language": "python",
   "name": "python3"
  },
  "language_info": {
   "codemirror_mode": {
    "name": "ipython",
    "version": 3
   },
   "file_extension": ".py",
   "mimetype": "text/x-python",
   "name": "python",
   "nbconvert_exporter": "python",
   "pygments_lexer": "ipython3",
   "version": "3.9.9"
  }
 },
 "nbformat": 4,
 "nbformat_minor": 5
}
